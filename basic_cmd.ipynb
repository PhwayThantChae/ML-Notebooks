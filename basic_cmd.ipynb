{
 "cells": [
  {
   "cell_type": "code",
   "execution_count": 1,
   "id": "1e86265d",
   "metadata": {},
   "outputs": [
    {
     "name": "stdout",
     "output_type": "stream",
     "text": [
      "fit a model with 11 variables\n"
     ]
    }
   ],
   "source": [
    "print('fit a model with', 11, 'variables')"
   ]
  },
  {
   "cell_type": "code",
   "execution_count": 2,
   "id": "8cfc6f47",
   "metadata": {},
   "outputs": [
    {
     "data": {
      "text/plain": [
       "[3, 4, 5, 6]"
      ]
     },
     "execution_count": 2,
     "metadata": {},
     "output_type": "execute_result"
    }
   ],
   "source": [
    "x = [3, 4]\n",
    "y = [5, 6]\n",
    "\n",
    "x + y"
   ]
  },
  {
   "cell_type": "code",
   "execution_count": 3,
   "id": "d2c3bbf6",
   "metadata": {},
   "outputs": [],
   "source": [
    "import numpy as np"
   ]
  },
  {
   "cell_type": "code",
   "execution_count": 4,
   "id": "f4d9f4cc",
   "metadata": {},
   "outputs": [],
   "source": [
    "x = np.array ([3, 4, 5])\n",
    "y = np.array ([4, 9, 7])"
   ]
  },
  {
   "cell_type": "code",
   "execution_count": 5,
   "id": "25f80e74",
   "metadata": {},
   "outputs": [
    {
     "data": {
      "text/plain": [
       "array([ 7, 13, 12])"
      ]
     },
     "execution_count": 5,
     "metadata": {},
     "output_type": "execute_result"
    }
   ],
   "source": [
    "x + y"
   ]
  },
  {
   "cell_type": "code",
   "execution_count": 6,
   "id": "249a2e92",
   "metadata": {},
   "outputs": [
    {
     "data": {
      "text/plain": [
       "array([[1, 2],\n",
       "       [3, 4]])"
      ]
     },
     "execution_count": 6,
     "metadata": {},
     "output_type": "execute_result"
    }
   ],
   "source": [
    "# Matrix\n",
    "x = np.array ([[1, 2], [3, 4]])\n",
    "x"
   ]
  },
  {
   "cell_type": "code",
   "execution_count": 15,
   "id": "a047584d",
   "metadata": {},
   "outputs": [
    {
     "data": {
      "text/plain": [
       "2"
      ]
     },
     "execution_count": 15,
     "metadata": {},
     "output_type": "execute_result"
    }
   ],
   "source": [
    "# Attributes\n",
    "x.ndim"
   ]
  },
  {
   "cell_type": "code",
   "execution_count": 10,
   "id": "b293385f",
   "metadata": {},
   "outputs": [
    {
     "data": {
      "text/plain": [
       "dtype('int64')"
      ]
     },
     "execution_count": 10,
     "metadata": {},
     "output_type": "execute_result"
    }
   ],
   "source": [
    "x.dtype"
   ]
  },
  {
   "cell_type": "code",
   "execution_count": 11,
   "id": "7fbbf59d",
   "metadata": {},
   "outputs": [
    {
     "data": {
      "text/plain": [
       "dtype('float64')"
      ]
     },
     "execution_count": 11,
     "metadata": {},
     "output_type": "execute_result"
    }
   ],
   "source": [
    "np.array ([[1, 2], [3.0, 4]]).dtype"
   ]
  },
  {
   "cell_type": "code",
   "execution_count": 16,
   "id": "2dc445d1",
   "metadata": {},
   "outputs": [
    {
     "data": {
      "text/plain": [
       "dtype('float64')"
      ]
     },
     "execution_count": 16,
     "metadata": {},
     "output_type": "execute_result"
    }
   ],
   "source": [
    "# Create a floating point array\n",
    "np.array ([[1, 2], [3, 4]], float).dtype"
   ]
  },
  {
   "cell_type": "code",
   "execution_count": 17,
   "id": "78aea8aa",
   "metadata": {},
   "outputs": [
    {
     "data": {
      "text/plain": [
       "(2, 2)"
      ]
     },
     "execution_count": 17,
     "metadata": {},
     "output_type": "execute_result"
    }
   ],
   "source": [
    "# Find out number of rows and columns\n",
    "x.shape"
   ]
  },
  {
   "cell_type": "code",
   "execution_count": 18,
   "id": "789ac3f4",
   "metadata": {},
   "outputs": [
    {
     "data": {
      "text/plain": [
       "10"
      ]
     },
     "execution_count": 18,
     "metadata": {},
     "output_type": "execute_result"
    }
   ],
   "source": [
    "x = np.array ([1, 2, 3, 4])\n",
    "x.sum()"
   ]
  },
  {
   "cell_type": "code",
   "execution_count": 19,
   "id": "ca4f0a6b",
   "metadata": {},
   "outputs": [
    {
     "name": "stdout",
     "output_type": "stream",
     "text": [
      "beginning x:\n",
      " [1 2 3 4 5 6]\n",
      "reshaped x:\n",
      " [[1 2 3]\n",
      " [4 5 6]]\n"
     ]
    }
   ],
   "source": [
    "# Reshape -> returns a new array with the same elements as x\n",
    "# (2,3) -> specifies that we would like to create a \n",
    "# two-dimensional array with 2 rows and columsn\n",
    "\n",
    "x = np.array ([1, 2, 3, 4, 5, 6])\n",
    "print('beginning x:\\n', x)\n",
    "x_reshape = x.reshape ((2, 3))\n",
    "print('reshaped x:\\n', x_reshape)"
   ]
  },
  {
   "cell_type": "code",
   "execution_count": 20,
   "id": "967e865b",
   "metadata": {},
   "outputs": [
    {
     "data": {
      "text/plain": [
       "1"
      ]
     },
     "execution_count": 20,
     "metadata": {},
     "output_type": "execute_result"
    }
   ],
   "source": [
    "x_reshape [0, 0]"
   ]
  },
  {
   "cell_type": "code",
   "execution_count": 21,
   "id": "b6dcb424",
   "metadata": {},
   "outputs": [
    {
     "data": {
      "text/plain": [
       "6"
      ]
     },
     "execution_count": 21,
     "metadata": {},
     "output_type": "execute_result"
    }
   ],
   "source": [
    "x_reshape [1, 2]"
   ]
  },
  {
   "cell_type": "code",
   "execution_count": 23,
   "id": "be891fed",
   "metadata": {},
   "outputs": [
    {
     "name": "stdout",
     "output_type": "stream",
     "text": [
      "x before we modify x_reshape :\n",
      " [5 2 3 4 5 6]\n",
      "x_reshape before we modify x_reshape :\n",
      " [[5 2 3]\n",
      " [4 5 6]]\n",
      "x_reshape after we modify its top left element :\n",
      " [[5 2 3]\n",
      " [4 5 6]]\n",
      "x after we modify top left element of x_reshape :\n",
      " [5 2 3 4 5 6]\n"
     ]
    }
   ],
   "source": [
    "# Modifying x_reshape also modified x because the two objects occupy the\n",
    "# same space in memory.\n",
    "\n",
    "print('x before we modify x_reshape :\\n', x)\n",
    "print('x_reshape before we modify x_reshape :\\n', x_reshape)\n",
    "x_reshape [0, 0] = 5\n",
    "print('x_reshape after we modify its top left element :\\n',\n",
    "x_reshape)\n",
    "print('x after we modify top left element of x_reshape :\\n', x)"
   ]
  },
  {
   "cell_type": "code",
   "execution_count": 27,
   "id": "b7ebfaa9",
   "metadata": {},
   "outputs": [
    {
     "data": {
      "text/plain": [
       "((2, 3),\n",
       " 2,\n",
       " array([[5, 4],\n",
       "        [2, 5],\n",
       "        [3, 6]]))"
      ]
     },
     "execution_count": 27,
     "metadata": {},
     "output_type": "execute_result"
    }
   ],
   "source": [
    "#.T -> transpose\n",
    "x_reshape.shape , x_reshape.ndim , x_reshape.T"
   ]
  },
  {
   "cell_type": "code",
   "execution_count": 28,
   "id": "ea510dd8",
   "metadata": {},
   "outputs": [
    {
     "data": {
      "text/plain": [
       "array([2.23606798, 1.41421356, 1.73205081, 2.        , 2.23606798,\n",
       "       2.44948974])"
      ]
     },
     "execution_count": 28,
     "metadata": {},
     "output_type": "execute_result"
    }
   ],
   "source": [
    "np.sqrt(x)"
   ]
  },
  {
   "cell_type": "code",
   "execution_count": 29,
   "id": "ea819e16",
   "metadata": {},
   "outputs": [
    {
     "data": {
      "text/plain": [
       "array([-0.24058816,  1.06372634, -0.43141136,  0.85914009, -0.204786  ,\n",
       "       -1.15181229,  1.9581334 ,  0.53293345,  1.58326821, -0.89739476,\n",
       "        0.36813788, -0.30450881,  0.60882548,  0.6288454 , -0.71205468,\n",
       "        0.19225648,  0.84761529, -0.99770228,  1.9766292 ,  1.25079382,\n",
       "       -1.50160429, -0.88096691,  1.79341832, -0.02969904, -1.49729985,\n",
       "       -0.4436047 ,  0.87142389,  0.2047157 , -0.70019091, -0.26362863,\n",
       "        0.22107224, -0.96528995,  1.49612261,  0.92022477,  0.46396538,\n",
       "       -0.44633997,  1.15406843,  2.55747155, -0.40255062,  1.06915813,\n",
       "        1.71835866,  1.28699851,  1.98106309,  1.73678058, -0.39892424,\n",
       "       -0.22300758,  0.5658021 ,  0.67923531,  1.32281892, -0.95792476])"
      ]
     },
     "execution_count": 29,
     "metadata": {},
     "output_type": "execute_result"
    }
   ],
   "source": [
    "# Generate random variables\n",
    "x = np.random.normal(size =50)\n",
    "x"
   ]
  },
  {
   "cell_type": "code",
   "execution_count": 31,
   "id": "7083f74a",
   "metadata": {},
   "outputs": [
    {
     "data": {
      "text/plain": [
       "array([49.97957013, 48.41556516, 49.41953402, 50.23337052, 50.23174905,\n",
       "       48.46129446, 50.86322546, 49.73858629, 49.95677837, 47.80342437,\n",
       "       50.29480412, 49.51652958, 52.10349976, 51.52127866, 48.07250288,\n",
       "       49.43967585, 50.4753562 , 51.04145291, 52.60502476, 52.02558365,\n",
       "       48.01251125, 49.17407911, 53.33007615, 49.12703996, 48.66452498,\n",
       "       50.81984138, 49.8177498 , 50.59772162, 49.52437922, 50.6877822 ,\n",
       "       49.95502381, 50.93225102, 51.46244347, 51.0612559 , 50.78030258,\n",
       "       51.41831047, 51.82992314, 54.27575429, 51.04458042, 51.67669087,\n",
       "       51.74283461, 51.92533387, 51.87902131, 51.28415573, 49.51644051,\n",
       "       49.04326171, 49.6357588 , 50.00553142, 51.50049651, 48.6053662 ])"
      ]
     },
     "execution_count": 31,
     "metadata": {},
     "output_type": "execute_result"
    }
   ],
   "source": [
    "y = x + np.random.normal(loc=50, scale=1, size =50)\n",
    "y"
   ]
  },
  {
   "cell_type": "code",
   "execution_count": 32,
   "id": "83846ec8",
   "metadata": {},
   "outputs": [
    {
     "data": {
      "text/plain": [
       "array([[1.        , 0.70910771],\n",
       "       [0.70910771, 1.        ]])"
      ]
     },
     "execution_count": 32,
     "metadata": {},
     "output_type": "execute_result"
    }
   ],
   "source": [
    "# Compute Correlation Matrix Between x and y\n",
    "np.corrcoef(x, y)"
   ]
  },
  {
   "cell_type": "code",
   "execution_count": 34,
   "id": "7a28ee07",
   "metadata": {},
   "outputs": [
    {
     "name": "stdout",
     "output_type": "stream",
     "text": [
      "[ 4.09482632 -1.07485605]\n",
      "[ 4.09482632 -1.07485605]\n"
     ]
    }
   ],
   "source": [
    "# Give the same result for random numbers\n",
    "rng = np.random.default_rng (1303)\n",
    "print(rng.normal(scale=5, size =2))\n",
    "rng2 = np.random.default_rng (1303)\n",
    "print(rng2.normal(scale=5, size =2))"
   ]
  },
  {
   "cell_type": "code",
   "execution_count": 36,
   "id": "b4c1ac57",
   "metadata": {},
   "outputs": [
    {
     "data": {
      "text/plain": [
       "(-0.1126795190952861, -0.1126795190952861)"
      ]
     },
     "execution_count": 36,
     "metadata": {},
     "output_type": "execute_result"
    }
   ],
   "source": [
    "rng = np.random.default_rng (3)\n",
    "y = rng.standard_normal (10)\n",
    "np.mean(y), y.mean ()"
   ]
  },
  {
   "cell_type": "code",
   "execution_count": null,
   "id": "4b7f3fa2",
   "metadata": {},
   "outputs": [],
   "source": []
  }
 ],
 "metadata": {
  "kernelspec": {
   "display_name": "Python 3 (ipykernel)",
   "language": "python",
   "name": "python3"
  },
  "language_info": {
   "codemirror_mode": {
    "name": "ipython",
    "version": 3
   },
   "file_extension": ".py",
   "mimetype": "text/x-python",
   "name": "python",
   "nbconvert_exporter": "python",
   "pygments_lexer": "ipython3",
   "version": "3.9.7"
  }
 },
 "nbformat": 4,
 "nbformat_minor": 5
}
