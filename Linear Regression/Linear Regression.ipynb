{
 "cells": [
  {
   "cell_type": "code",
   "execution_count": 3,
   "id": "879715c2",
   "metadata": {},
   "outputs": [],
   "source": [
    "# Import required packages\n",
    "import numpy as np\n",
    "import pandas as pd\n",
    "import matplotlib.pyplot as plt"
   ]
  },
  {
   "cell_type": "code",
   "execution_count": 13,
   "id": "b7b034a0",
   "metadata": {},
   "outputs": [
    {
     "data": {
      "text/html": [
       "<div>\n",
       "<style scoped>\n",
       "    .dataframe tbody tr th:only-of-type {\n",
       "        vertical-align: middle;\n",
       "    }\n",
       "\n",
       "    .dataframe tbody tr th {\n",
       "        vertical-align: top;\n",
       "    }\n",
       "\n",
       "    .dataframe thead th {\n",
       "        text-align: right;\n",
       "    }\n",
       "</style>\n",
       "<table border=\"1\" class=\"dataframe\">\n",
       "  <thead>\n",
       "    <tr style=\"text-align: right;\">\n",
       "      <th></th>\n",
       "      <th>YearsExperience</th>\n",
       "      <th>Salary</th>\n",
       "    </tr>\n",
       "  </thead>\n",
       "  <tbody>\n",
       "    <tr>\n",
       "      <th>0</th>\n",
       "      <td>1.1</td>\n",
       "      <td>39343.0</td>\n",
       "    </tr>\n",
       "    <tr>\n",
       "      <th>1</th>\n",
       "      <td>1.3</td>\n",
       "      <td>46205.0</td>\n",
       "    </tr>\n",
       "    <tr>\n",
       "      <th>2</th>\n",
       "      <td>1.5</td>\n",
       "      <td>37731.0</td>\n",
       "    </tr>\n",
       "    <tr>\n",
       "      <th>3</th>\n",
       "      <td>2.0</td>\n",
       "      <td>43525.0</td>\n",
       "    </tr>\n",
       "    <tr>\n",
       "      <th>4</th>\n",
       "      <td>2.2</td>\n",
       "      <td>39891.0</td>\n",
       "    </tr>\n",
       "  </tbody>\n",
       "</table>\n",
       "</div>"
      ],
      "text/plain": [
       "   YearsExperience   Salary\n",
       "0              1.1  39343.0\n",
       "1              1.3  46205.0\n",
       "2              1.5  37731.0\n",
       "3              2.0  43525.0\n",
       "4              2.2  39891.0"
      ]
     },
     "execution_count": 13,
     "metadata": {},
     "output_type": "execute_result"
    }
   ],
   "source": [
    "# Read the dataset\n",
    "# Split the data based on independent(X) \n",
    "# and independent variables (Y)\n",
    "\n",
    "dataset= pd.read_csv(\"data/Salary_Data.csv\")\n",
    "dataset.head(5)"
   ]
  },
  {
   "cell_type": "code",
   "execution_count": 21,
   "id": "9ecd396c",
   "metadata": {},
   "outputs": [
    {
     "data": {
      "text/plain": [
       "(array([[1.1],\n",
       "        [1.3],\n",
       "        [1.5],\n",
       "        [2. ],\n",
       "        [2.2]]),\n",
       " array([39343., 46205., 37731., 43525., 39891.]))"
      ]
     },
     "execution_count": 21,
     "metadata": {},
     "output_type": "execute_result"
    }
   ],
   "source": [
    "# Divide the dataset into X and Y\n",
    "# iloc -> \n",
    "# [:, :-1] -> first parameter is for rows, \n",
    "# and second parameter is for columns\n",
    "X = dataset.iloc[:, :-1].values\n",
    "Y = dataset.iloc[:, 1].values\n",
    "X[:5], Y[:5]"
   ]
  },
  {
   "cell_type": "code",
   "execution_count": 26,
   "id": "0a49ef3b",
   "metadata": {},
   "outputs": [],
   "source": [
    "# Splitting thd data based on training and test set\n",
    "# random_state is a seed value, used by random number generator\n",
    "from sklearn.model_selection import train_test_split\n",
    "X_train, X_test, Y_train, Y_test = train_test_split(X, Y, test_size=1/3, random_state=0)"
   ]
  },
  {
   "cell_type": "code",
   "execution_count": 31,
   "id": "657d27d5",
   "metadata": {},
   "outputs": [
    {
     "data": {
      "text/plain": [
       "LinearRegression()"
      ]
     },
     "execution_count": 31,
     "metadata": {},
     "output_type": "execute_result"
    }
   ],
   "source": [
    "# Implement our classifier based on simple linear regression\n",
    "from sklearn.linear_model import LinearRegression\n",
    "simpleLinearRegression = LinearRegression()\n",
    "simpleLinearRegression.fit(X_train, Y_train)"
   ]
  },
  {
   "cell_type": "code",
   "execution_count": 39,
   "id": "7287bb99",
   "metadata": {},
   "outputs": [
    {
     "data": {
      "text/plain": [
       "(array([ 37731., 122391.,  57081.,  63218., 116969., 109431., 112635.,\n",
       "         55794.,  83088., 101302.]),\n",
       " array([ 40835.10590871, 123079.39940819,  65134.55626083,  63265.36777221,\n",
       "        115602.64545369, 108125.8914992 , 116537.23969801,  64199.96201652,\n",
       "         76349.68719258, 100649.1375447 ]))"
      ]
     },
     "execution_count": 39,
     "metadata": {},
     "output_type": "execute_result"
    }
   ],
   "source": [
    "# Compare values between Y_test and y_predict to determine how good is the model\n",
    "y_predict = simpleLinearRegression.predict(X_test)\n",
    "Y_test, y_predict"
   ]
  },
  {
   "cell_type": "code",
   "execution_count": 41,
   "id": "f207d938",
   "metadata": {},
   "outputs": [
    {
     "data": {
      "text/plain": [
       "array([129621.55911838])"
      ]
     },
     "execution_count": 41,
     "metadata": {},
     "output_type": "execute_result"
    }
   ],
   "source": [
    "y_predict_val = simpleLinearRegression.predict([[11.0]])\n",
    "y_predict_val"
   ]
  },
  {
   "cell_type": "code",
   "execution_count": 43,
   "id": "85115880",
   "metadata": {},
   "outputs": [
    {
     "data": {
      "image/png": "[encoded data removed]",
      "text/plain": [
       "<Figure size 432x288 with 1 Axes>"
      ]
     },
     "metadata": {
      "needs_background": "light"
     },
     "output_type": "display_data"
    }
   ],
   "source": [
    "# Implement the graph for simple linear regression\n",
    "plt.scatter(X_train, Y_train, color='blue', label='Training Data')\n",
    "plt.scatter(X_test, Y_test, color='green', label='Test Data')\n",
    "plt.plot(X_train, simpleLinearRegression.predict(X_train), color='red', linewidth=2, label='Regression Line')\n",
    "plt.xlabel('X')\n",
    "plt.ylabel('Y')\n",
    "plt.legend()\n",
    "plt.title('Simple Linear Regression')\n",
    "plt.show()"
   ]
  },
  {
   "cell_type": "code",
   "execution_count": 44,
   "id": "d59c35a8",
   "metadata": {},
   "outputs": [
    {
     "name": "stdout",
     "output_type": "stream",
     "text": [
      "Mean Squared Error: 21026037.329511296\n",
      "R-squared: 0.9749154407708353\n"
     ]
    }
   ],
   "source": [
    "# Evaluate the model (you can use different metrics depending on your needs)\n",
    "from sklearn.metrics import mean_squared_error, r2_score\n",
    "\n",
    "mse = mean_squared_error(Y_test, y_predict)\n",
    "r2 = r2_score(Y_test, y_predict)\n",
    "\n",
    "print(\"Mean Squared Error:\", mse)\n",
    "print(\"R-squared:\", r2)"
   ]
  }
 ],
 "metadata": {
  "kernelspec": {
   "display_name": "base",
   "language": "python",
   "name": "python3"
  },
  "language_info": {
   "codemirror_mode": {
    "name": "ipython",
    "version": 3
   },
   "file_extension": ".py",
   "mimetype": "text/x-python",
   "name": "python",
   "nbconvert_exporter": "python",
   "pygments_lexer": "ipython3",
   "version": "3.9.7"
  },
  "vscode": {
   "interpreter": {
    "hash": "29fc15e1e541a540e27b224d3dc15f6d4b535e3d2873dc41ba8f27b25d13dadb"
   }
  }
 },
 "nbformat": 4,
 "nbformat_minor": 5
}
